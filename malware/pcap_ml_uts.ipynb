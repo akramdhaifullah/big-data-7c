{
 "cells": [
  {
   "cell_type": "markdown",
   "id": "caab9aa6-477b-4068-89f4-938d2596e7d2",
   "metadata": {},
   "source": [
    "<a target=\"_blank\" href=\"https://colab.research.google.com/github/akramdhaifullah/big-data-analysis/blob/master/malware/pcap_ml_uts.ipynb\">\n",
    "  <img src=\"https://colab.research.google.com/assets/colab-badge.svg\" alt=\"Open In Colab\"/>\n",
    "</a>"
   ]
  },
  {
   "cell_type": "code",
   "execution_count": 2,
   "id": "7a8f3e9f-e94c-4dd5-8fcf-a26386cdbd0a",
   "metadata": {},
   "outputs": [],
   "source": [
    "import pandas as pd\n",
    "import numpy as np\n",
    "from sklearn.preprocessing import LabelEncoder, StandardScaler\n",
    "from sklearn.model_selection import train_test_split\n",
    "from sklearn.linear_model import SGDClassifier\n",
    "from sklearn.metrics import accuracy_score, classification_report, confusion_matrix\n",
    "from sklearn.impute import SimpleImputer\n",
    "from imblearn.over_sampling import SMOTE"
   ]
  },
  {
   "cell_type": "code",
   "execution_count": 3,
   "id": "70ab6d71-36ef-407d-90f7-60a0abfd32ad",
   "metadata": {},
   "outputs": [],
   "source": [
    "df = pd.read_csv('tcp.csv', encoding='ISO-8859-1')"
   ]
  },
  {
   "cell_type": "markdown",
   "id": "0602b60d-3da0-4386-83a4-7c06dafe0148",
   "metadata": {},
   "source": [
    "# EDA"
   ]
  },
  {
   "cell_type": "code",
   "execution_count": 4,
   "id": "64f7bfd8-17ed-4c83-a67e-63924fb525bb",
   "metadata": {},
   "outputs": [
    {
     "data": {
      "text/html": [
       "<div>\n",
       "<style scoped>\n",
       "    .dataframe tbody tr th:only-of-type {\n",
       "        vertical-align: middle;\n",
       "    }\n",
       "\n",
       "    .dataframe tbody tr th {\n",
       "        vertical-align: top;\n",
       "    }\n",
       "\n",
       "    .dataframe thead th {\n",
       "        text-align: right;\n",
       "    }\n",
       "</style>\n",
       "<table border=\"1\" class=\"dataframe\">\n",
       "  <thead>\n",
       "    <tr style=\"text-align: right;\">\n",
       "      <th></th>\n",
       "      <th>Time</th>\n",
       "      <th>Source</th>\n",
       "      <th>Src Port</th>\n",
       "      <th>Destination</th>\n",
       "      <th>Dest. Port</th>\n",
       "      <th>Protocol</th>\n",
       "      <th>Length</th>\n",
       "      <th>Differentiated Services Field</th>\n",
       "      <th>Flags</th>\n",
       "      <th>TCP Options</th>\n",
       "      <th>Severity</th>\n",
       "      <th>Info</th>\n",
       "    </tr>\n",
       "  </thead>\n",
       "  <tbody>\n",
       "    <tr>\n",
       "      <th>0</th>\n",
       "      <td>2023-01-30 01:00:07</td>\n",
       "      <td>10.10.1.198</td>\n",
       "      <td>59620</td>\n",
       "      <td>172.217.194.95</td>\n",
       "      <td>443</td>\n",
       "      <td>TLSv1.2</td>\n",
       "      <td>64468</td>\n",
       "      <td>0x00</td>\n",
       "      <td>0x018</td>\n",
       "      <td>0101080a705310265824ea67</td>\n",
       "      <td>Warning</td>\n",
       "      <td>Ignored Unknown Record</td>\n",
       "    </tr>\n",
       "    <tr>\n",
       "      <th>1</th>\n",
       "      <td>2023-01-30 01:00:07</td>\n",
       "      <td>10.10.1.198</td>\n",
       "      <td>59620</td>\n",
       "      <td>172.217.194.95</td>\n",
       "      <td>443</td>\n",
       "      <td>TLSv1.2</td>\n",
       "      <td>64468</td>\n",
       "      <td>0x00</td>\n",
       "      <td>0x018</td>\n",
       "      <td>0101080a705310275824ea67</td>\n",
       "      <td>Warning</td>\n",
       "      <td>Ignored Unknown Record</td>\n",
       "    </tr>\n",
       "    <tr>\n",
       "      <th>2</th>\n",
       "      <td>2023-01-30 01:00:07</td>\n",
       "      <td>10.10.1.198</td>\n",
       "      <td>59620</td>\n",
       "      <td>172.217.194.95</td>\n",
       "      <td>443</td>\n",
       "      <td>TLSv1.2</td>\n",
       "      <td>64468</td>\n",
       "      <td>0x00</td>\n",
       "      <td>0x018</td>\n",
       "      <td>0101080a705310275824ea67</td>\n",
       "      <td>Warning</td>\n",
       "      <td>Ignored Unknown Record</td>\n",
       "    </tr>\n",
       "    <tr>\n",
       "      <th>3</th>\n",
       "      <td>2023-01-30 01:00:07</td>\n",
       "      <td>10.10.1.198</td>\n",
       "      <td>59620</td>\n",
       "      <td>172.217.194.95</td>\n",
       "      <td>443</td>\n",
       "      <td>TLSv1.2</td>\n",
       "      <td>64468</td>\n",
       "      <td>0x00</td>\n",
       "      <td>0x018</td>\n",
       "      <td>0101080a705310275824ea67</td>\n",
       "      <td>Warning</td>\n",
       "      <td>Ignored Unknown Record</td>\n",
       "    </tr>\n",
       "    <tr>\n",
       "      <th>4</th>\n",
       "      <td>2023-01-30 01:00:07</td>\n",
       "      <td>10.10.1.198</td>\n",
       "      <td>59620</td>\n",
       "      <td>172.217.194.95</td>\n",
       "      <td>443</td>\n",
       "      <td>TLSv1.2</td>\n",
       "      <td>64468</td>\n",
       "      <td>0x00</td>\n",
       "      <td>0x018</td>\n",
       "      <td>0101080a705310285824ea67</td>\n",
       "      <td>Warning</td>\n",
       "      <td>Ignored Unknown Record</td>\n",
       "    </tr>\n",
       "  </tbody>\n",
       "</table>\n",
       "</div>"
      ],
      "text/plain": [
       "                  Time       Source  Src Port     Destination  Dest. Port  \\\n",
       "0  2023-01-30 01:00:07  10.10.1.198     59620  172.217.194.95         443   \n",
       "1  2023-01-30 01:00:07  10.10.1.198     59620  172.217.194.95         443   \n",
       "2  2023-01-30 01:00:07  10.10.1.198     59620  172.217.194.95         443   \n",
       "3  2023-01-30 01:00:07  10.10.1.198     59620  172.217.194.95         443   \n",
       "4  2023-01-30 01:00:07  10.10.1.198     59620  172.217.194.95         443   \n",
       "\n",
       "  Protocol  Length Differentiated Services Field  Flags  \\\n",
       "0  TLSv1.2   64468                          0x00  0x018   \n",
       "1  TLSv1.2   64468                          0x00  0x018   \n",
       "2  TLSv1.2   64468                          0x00  0x018   \n",
       "3  TLSv1.2   64468                          0x00  0x018   \n",
       "4  TLSv1.2   64468                          0x00  0x018   \n",
       "\n",
       "                TCP Options Severity                    Info  \n",
       "0  0101080a705310265824ea67  Warning  Ignored Unknown Record  \n",
       "1  0101080a705310275824ea67  Warning  Ignored Unknown Record  \n",
       "2  0101080a705310275824ea67  Warning  Ignored Unknown Record  \n",
       "3  0101080a705310275824ea67  Warning  Ignored Unknown Record  \n",
       "4  0101080a705310285824ea67  Warning  Ignored Unknown Record  "
      ]
     },
     "execution_count": 4,
     "metadata": {},
     "output_type": "execute_result"
    }
   ],
   "source": [
    "df.head()"
   ]
  },
  {
   "cell_type": "code",
   "execution_count": 5,
   "id": "68bf93f3-4f7e-4b8e-886a-8da12112cec1",
   "metadata": {},
   "outputs": [
    {
     "name": "stdout",
     "output_type": "stream",
     "text": [
      "<class 'pandas.core.frame.DataFrame'>\n",
      "RangeIndex: 253391 entries, 0 to 253390\n",
      "Data columns (total 12 columns):\n",
      " #   Column                         Non-Null Count   Dtype \n",
      "---  ------                         --------------   ----- \n",
      " 0   Time                           253391 non-null  object\n",
      " 1   Source                         253391 non-null  object\n",
      " 2   Src Port                       253391 non-null  int64 \n",
      " 3   Destination                    253391 non-null  object\n",
      " 4   Dest. Port                     253391 non-null  int64 \n",
      " 5   Protocol                       253391 non-null  object\n",
      " 6   Length                         253391 non-null  int64 \n",
      " 7   Differentiated Services Field  253391 non-null  object\n",
      " 8   Flags                          253391 non-null  object\n",
      " 9   TCP Options                    253263 non-null  object\n",
      " 10  Severity                       175879 non-null  object\n",
      " 11  Info                           253391 non-null  object\n",
      "dtypes: int64(3), object(9)\n",
      "memory usage: 23.2+ MB\n"
     ]
    }
   ],
   "source": [
    "df.info()"
   ]
  },
  {
   "cell_type": "code",
   "execution_count": 6,
   "id": "ce2ef0d2-0478-4a42-88a9-8173431f360b",
   "metadata": {},
   "outputs": [
    {
     "data": {
      "text/html": [
       "<div>\n",
       "<style scoped>\n",
       "    .dataframe tbody tr th:only-of-type {\n",
       "        vertical-align: middle;\n",
       "    }\n",
       "\n",
       "    .dataframe tbody tr th {\n",
       "        vertical-align: top;\n",
       "    }\n",
       "\n",
       "    .dataframe thead th {\n",
       "        text-align: right;\n",
       "    }\n",
       "</style>\n",
       "<table border=\"1\" class=\"dataframe\">\n",
       "  <thead>\n",
       "    <tr style=\"text-align: right;\">\n",
       "      <th></th>\n",
       "      <th>Src Port</th>\n",
       "      <th>Dest. Port</th>\n",
       "      <th>Length</th>\n",
       "    </tr>\n",
       "  </thead>\n",
       "  <tbody>\n",
       "    <tr>\n",
       "      <th>count</th>\n",
       "      <td>253391.000000</td>\n",
       "      <td>253391.000000</td>\n",
       "      <td>253391.000000</td>\n",
       "    </tr>\n",
       "    <tr>\n",
       "      <th>mean</th>\n",
       "      <td>2564.706683</td>\n",
       "      <td>57484.365664</td>\n",
       "      <td>1957.140336</td>\n",
       "    </tr>\n",
       "    <tr>\n",
       "      <th>std</th>\n",
       "      <td>10973.375308</td>\n",
       "      <td>11009.771967</td>\n",
       "      <td>10500.699863</td>\n",
       "    </tr>\n",
       "    <tr>\n",
       "      <th>min</th>\n",
       "      <td>22.000000</td>\n",
       "      <td>22.000000</td>\n",
       "      <td>56.000000</td>\n",
       "    </tr>\n",
       "    <tr>\n",
       "      <th>25%</th>\n",
       "      <td>443.000000</td>\n",
       "      <td>59620.000000</td>\n",
       "      <td>96.000000</td>\n",
       "    </tr>\n",
       "    <tr>\n",
       "      <th>50%</th>\n",
       "      <td>443.000000</td>\n",
       "      <td>59620.000000</td>\n",
       "      <td>96.000000</td>\n",
       "    </tr>\n",
       "    <tr>\n",
       "      <th>75%</th>\n",
       "      <td>443.000000</td>\n",
       "      <td>59620.000000</td>\n",
       "      <td>96.000000</td>\n",
       "    </tr>\n",
       "    <tr>\n",
       "      <th>max</th>\n",
       "      <td>59620.000000</td>\n",
       "      <td>59620.000000</td>\n",
       "      <td>64468.000000</td>\n",
       "    </tr>\n",
       "  </tbody>\n",
       "</table>\n",
       "</div>"
      ],
      "text/plain": [
       "            Src Port     Dest. Port         Length\n",
       "count  253391.000000  253391.000000  253391.000000\n",
       "mean     2564.706683   57484.365664    1957.140336\n",
       "std     10973.375308   11009.771967   10500.699863\n",
       "min        22.000000      22.000000      56.000000\n",
       "25%       443.000000   59620.000000      96.000000\n",
       "50%       443.000000   59620.000000      96.000000\n",
       "75%       443.000000   59620.000000      96.000000\n",
       "max     59620.000000   59620.000000   64468.000000"
      ]
     },
     "execution_count": 6,
     "metadata": {},
     "output_type": "execute_result"
    }
   ],
   "source": [
    "df.describe()"
   ]
  },
  {
   "cell_type": "code",
   "execution_count": 7,
   "id": "05f704e8-37a6-40f6-9038-84dc8c1c75d5",
   "metadata": {},
   "outputs": [
    {
     "name": "stdout",
     "output_type": "stream",
     "text": [
      "Severity\n",
      "Note       175651\n",
      "Warning       120\n",
      "Chat          108\n",
      "Name: count, dtype: int64\n",
      "Proportion: 0.0\n"
     ]
    },
    {
     "name": "stderr",
     "output_type": "stream",
     "text": [
      "C:\\Users\\Akram\\AppData\\Local\\Temp\\ipykernel_11656\\2166700734.py:5: FutureWarning: Series.__getitem__ treating keys as positions is deprecated. In a future version, integer keys will always be treated as labels (consistent with DataFrame behavior). To access a value by position, use `ser.iloc[pos]`\n",
      "  proportion = target_count[1] / target_count[0]  # Calculate the proportion for the second class over the first\n"
     ]
    },
    {
     "data": {
      "text/plain": [
       "<Axes: title={'center': 'Count (target)'}, xlabel='Severity'>"
      ]
     },
     "execution_count": 7,
     "metadata": {},
     "output_type": "execute_result"
    },
    {
     "data": {
      "image/png": "[encoded data removed]",
      "text/plain": [
       "<Figure size 640x480 with 1 Axes>"
      ]
     },
     "metadata": {},
     "output_type": "display_data"
    }
   ],
   "source": [
    "target_count = df['Severity'].value_counts()\n",
    "print(target_count)\n",
    "\n",
    "# Calculate proportions for a binary target class\n",
    "proportion = target_count[1] / target_count[0]  # Calculate the proportion for the second class over the first\n",
    "print('Proportion:', round(proportion, 2))\n",
    "\n",
    "target_count.plot(kind='bar', title='Count (target)')"
   ]
  },
  {
   "cell_type": "markdown",
   "id": "585aab14-519d-4456-93d3-fda53e326f0e",
   "metadata": {},
   "source": [
    "# Preprocessing"
   ]
  },
  {
   "cell_type": "code",
   "execution_count": 8,
   "id": "eab82827-ca86-4306-8639-859133be635e",
   "metadata": {},
   "outputs": [
    {
     "data": {
      "text/plain": [
       "Time                                 0\n",
       "Source                               0\n",
       "Src Port                             0\n",
       "Destination                          0\n",
       "Dest. Port                           0\n",
       "Protocol                             0\n",
       "Length                               0\n",
       "Differentiated Services Field        0\n",
       "Flags                                0\n",
       "TCP Options                        128\n",
       "Severity                         77512\n",
       "Info                                 0\n",
       "dtype: int64"
      ]
     },
     "execution_count": 8,
     "metadata": {},
     "output_type": "execute_result"
    }
   ],
   "source": [
    "df.isnull().sum()"
   ]
  },
  {
   "cell_type": "code",
   "execution_count": 9,
   "id": "c4c5e586-84cd-42e7-888c-517d4b296d34",
   "metadata": {},
   "outputs": [],
   "source": [
    "df.dropna(inplace=True)"
   ]
  },
  {
   "cell_type": "code",
   "execution_count": 10,
   "id": "c4ab8dca-5dbb-42e0-b59a-fba6c7defb4f",
   "metadata": {},
   "outputs": [
    {
     "data": {
      "text/plain": [
       "array(['Warning', 'Note', 'Chat'], dtype=object)"
      ]
     },
     "execution_count": 10,
     "metadata": {},
     "output_type": "execute_result"
    }
   ],
   "source": [
    "df.Severity.unique()"
   ]
  },
  {
   "cell_type": "code",
   "execution_count": 11,
   "id": "ee2f8eec-9aae-41da-a2f2-ea2592e8dbbb",
   "metadata": {},
   "outputs": [
    {
     "data": {
      "text/plain": [
       "array(['TLSv1.2', 'TCP', 'HTTP', 'HTTP/JSON'], dtype=object)"
      ]
     },
     "execution_count": 11,
     "metadata": {},
     "output_type": "execute_result"
    }
   ],
   "source": [
    "df.Protocol.unique()"
   ]
  },
  {
   "cell_type": "code",
   "execution_count": 12,
   "id": "ae2c7b8b-9ba1-4305-9725-5e80226f037e",
   "metadata": {},
   "outputs": [],
   "source": [
    "df.drop(columns=['Time', 'Info'], inplace=True)"
   ]
  },
  {
   "cell_type": "code",
   "execution_count": 13,
   "id": "d2eb9f6e-50c0-4ea1-887f-083d6897313c",
   "metadata": {},
   "outputs": [
    {
     "data": {
      "text/html": [
       "<div>\n",
       "<style scoped>\n",
       "    .dataframe tbody tr th:only-of-type {\n",
       "        vertical-align: middle;\n",
       "    }\n",
       "\n",
       "    .dataframe tbody tr th {\n",
       "        vertical-align: top;\n",
       "    }\n",
       "\n",
       "    .dataframe thead th {\n",
       "        text-align: right;\n",
       "    }\n",
       "</style>\n",
       "<table border=\"1\" class=\"dataframe\">\n",
       "  <thead>\n",
       "    <tr style=\"text-align: right;\">\n",
       "      <th></th>\n",
       "      <th>Source</th>\n",
       "      <th>Src Port</th>\n",
       "      <th>Destination</th>\n",
       "      <th>Dest. Port</th>\n",
       "      <th>Protocol</th>\n",
       "      <th>Length</th>\n",
       "      <th>Differentiated Services Field</th>\n",
       "      <th>Flags</th>\n",
       "      <th>TCP Options</th>\n",
       "      <th>Severity</th>\n",
       "    </tr>\n",
       "  </thead>\n",
       "  <tbody>\n",
       "    <tr>\n",
       "      <th>0</th>\n",
       "      <td>1</td>\n",
       "      <td>59620</td>\n",
       "      <td>4</td>\n",
       "      <td>443</td>\n",
       "      <td>3</td>\n",
       "      <td>64468</td>\n",
       "      <td>0</td>\n",
       "      <td>3</td>\n",
       "      <td>175620</td>\n",
       "      <td>2</td>\n",
       "    </tr>\n",
       "    <tr>\n",
       "      <th>1</th>\n",
       "      <td>1</td>\n",
       "      <td>59620</td>\n",
       "      <td>4</td>\n",
       "      <td>443</td>\n",
       "      <td>3</td>\n",
       "      <td>64468</td>\n",
       "      <td>0</td>\n",
       "      <td>3</td>\n",
       "      <td>175621</td>\n",
       "      <td>2</td>\n",
       "    </tr>\n",
       "    <tr>\n",
       "      <th>2</th>\n",
       "      <td>1</td>\n",
       "      <td>59620</td>\n",
       "      <td>4</td>\n",
       "      <td>443</td>\n",
       "      <td>3</td>\n",
       "      <td>64468</td>\n",
       "      <td>0</td>\n",
       "      <td>3</td>\n",
       "      <td>175621</td>\n",
       "      <td>2</td>\n",
       "    </tr>\n",
       "    <tr>\n",
       "      <th>3</th>\n",
       "      <td>1</td>\n",
       "      <td>59620</td>\n",
       "      <td>4</td>\n",
       "      <td>443</td>\n",
       "      <td>3</td>\n",
       "      <td>64468</td>\n",
       "      <td>0</td>\n",
       "      <td>3</td>\n",
       "      <td>175621</td>\n",
       "      <td>2</td>\n",
       "    </tr>\n",
       "    <tr>\n",
       "      <th>4</th>\n",
       "      <td>1</td>\n",
       "      <td>59620</td>\n",
       "      <td>4</td>\n",
       "      <td>443</td>\n",
       "      <td>3</td>\n",
       "      <td>64468</td>\n",
       "      <td>0</td>\n",
       "      <td>3</td>\n",
       "      <td>175622</td>\n",
       "      <td>2</td>\n",
       "    </tr>\n",
       "    <tr>\n",
       "      <th>...</th>\n",
       "      <td>...</td>\n",
       "      <td>...</td>\n",
       "      <td>...</td>\n",
       "      <td>...</td>\n",
       "      <td>...</td>\n",
       "      <td>...</td>\n",
       "      <td>...</td>\n",
       "      <td>...</td>\n",
       "      <td>...</td>\n",
       "      <td>...</td>\n",
       "    </tr>\n",
       "    <tr>\n",
       "      <th>253344</th>\n",
       "      <td>4</td>\n",
       "      <td>443</td>\n",
       "      <td>1</td>\n",
       "      <td>59620</td>\n",
       "      <td>2</td>\n",
       "      <td>96</td>\n",
       "      <td>1</td>\n",
       "      <td>1</td>\n",
       "      <td>175611</td>\n",
       "      <td>1</td>\n",
       "    </tr>\n",
       "    <tr>\n",
       "      <th>253345</th>\n",
       "      <td>4</td>\n",
       "      <td>443</td>\n",
       "      <td>1</td>\n",
       "      <td>59620</td>\n",
       "      <td>2</td>\n",
       "      <td>96</td>\n",
       "      <td>1</td>\n",
       "      <td>1</td>\n",
       "      <td>175612</td>\n",
       "      <td>1</td>\n",
       "    </tr>\n",
       "    <tr>\n",
       "      <th>253387</th>\n",
       "      <td>4</td>\n",
       "      <td>443</td>\n",
       "      <td>1</td>\n",
       "      <td>59620</td>\n",
       "      <td>2</td>\n",
       "      <td>80</td>\n",
       "      <td>1</td>\n",
       "      <td>1</td>\n",
       "      <td>175616</td>\n",
       "      <td>1</td>\n",
       "    </tr>\n",
       "    <tr>\n",
       "      <th>253388</th>\n",
       "      <td>4</td>\n",
       "      <td>443</td>\n",
       "      <td>1</td>\n",
       "      <td>59620</td>\n",
       "      <td>2</td>\n",
       "      <td>88</td>\n",
       "      <td>1</td>\n",
       "      <td>1</td>\n",
       "      <td>175617</td>\n",
       "      <td>1</td>\n",
       "    </tr>\n",
       "    <tr>\n",
       "      <th>253389</th>\n",
       "      <td>4</td>\n",
       "      <td>443</td>\n",
       "      <td>1</td>\n",
       "      <td>59620</td>\n",
       "      <td>2</td>\n",
       "      <td>96</td>\n",
       "      <td>1</td>\n",
       "      <td>1</td>\n",
       "      <td>175618</td>\n",
       "      <td>1</td>\n",
       "    </tr>\n",
       "  </tbody>\n",
       "</table>\n",
       "<p>175767 rows × 10 columns</p>\n",
       "</div>"
      ],
      "text/plain": [
       "        Source  Src Port  Destination  Dest. Port  Protocol  Length  \\\n",
       "0            1     59620            4         443         3   64468   \n",
       "1            1     59620            4         443         3   64468   \n",
       "2            1     59620            4         443         3   64468   \n",
       "3            1     59620            4         443         3   64468   \n",
       "4            1     59620            4         443         3   64468   \n",
       "...        ...       ...          ...         ...       ...     ...   \n",
       "253344       4       443            1       59620         2      96   \n",
       "253345       4       443            1       59620         2      96   \n",
       "253387       4       443            1       59620         2      80   \n",
       "253388       4       443            1       59620         2      88   \n",
       "253389       4       443            1       59620         2      96   \n",
       "\n",
       "        Differentiated Services Field  Flags  TCP Options  Severity  \n",
       "0                                   0      3       175620         2  \n",
       "1                                   0      3       175621         2  \n",
       "2                                   0      3       175621         2  \n",
       "3                                   0      3       175621         2  \n",
       "4                                   0      3       175622         2  \n",
       "...                               ...    ...          ...       ...  \n",
       "253344                              1      1       175611         1  \n",
       "253345                              1      1       175612         1  \n",
       "253387                              1      1       175616         1  \n",
       "253388                              1      1       175617         1  \n",
       "253389                              1      1       175618         1  \n",
       "\n",
       "[175767 rows x 10 columns]"
      ]
     },
     "execution_count": 13,
     "metadata": {},
     "output_type": "execute_result"
    }
   ],
   "source": [
    "cols_to_encode = ['Source','Destination','Protocol','Differentiated Services Field','Flags','TCP Options','Severity']\n",
    "\n",
    "encoder = LabelEncoder()\n",
    "\n",
    "df_encoded = df\n",
    "\n",
    "for feature in df:\n",
    "    if feature in cols_to_encode:\n",
    "        df_encoded[feature] = encoder.fit_transform(df[feature])\n",
    "\n",
    "df_encoded"
   ]
  },
  {
   "cell_type": "code",
   "execution_count": 14,
   "id": "447a0315-2343-4416-a8fd-ff6e2031895e",
   "metadata": {},
   "outputs": [],
   "source": [
    "scaler = StandardScaler()\n",
    "\n",
    "df_scaled = scaler.fit_transform(df_encoded)"
   ]
  },
  {
   "cell_type": "markdown",
   "id": "2d09ad9f-69c3-4298-adcf-ab8a7284ede6",
   "metadata": {},
   "source": [
    "# feature selection"
   ]
  },
  {
   "cell_type": "code",
   "execution_count": 15,
   "id": "5d21bc2d-1ece-45d6-9dc9-f6f3ef5a6483",
   "metadata": {},
   "outputs": [
    {
     "data": {
      "text/plain": [
       "Source                           False\n",
       "Src Port                         False\n",
       "Destination                      False\n",
       "Dest. Port                       False\n",
       "Protocol                         False\n",
       "Length                           False\n",
       "Differentiated Services Field    False\n",
       "Flags                            False\n",
       "TCP Options                      False\n",
       "Severity                         False\n",
       "dtype: bool"
      ]
     },
     "execution_count": 15,
     "metadata": {},
     "output_type": "execute_result"
    }
   ],
   "source": [
    "df.isnull().any()"
   ]
  },
  {
   "cell_type": "code",
   "execution_count": 16,
   "id": "aa468465-80d2-45c5-95ea-29a04991cf1a",
   "metadata": {},
   "outputs": [],
   "source": [
    "X = df.drop(['Severity'], axis=1)\n",
    "y = df['Severity']"
   ]
  },
  {
   "cell_type": "code",
   "execution_count": 17,
   "id": "8ee6c523-9468-482c-a8f3-ebb375b87635",
   "metadata": {},
   "outputs": [],
   "source": [
    "# # Handle missing values\n",
    "# imputer = SimpleImputer(strategy='mean')  # Choose the appropriate strategy\n",
    "# X_imputed = imputer.fit_transform(X)"
   ]
  },
  {
   "cell_type": "markdown",
   "id": "b307adb2-8569-4f65-b985-13ac8af89a74",
   "metadata": {},
   "source": [
    "# SMOTE() for resolving imbalance"
   ]
  },
  {
   "cell_type": "code",
   "execution_count": 18,
   "id": "797a2ee7-2faf-474b-9336-490b2d7cc999",
   "metadata": {},
   "outputs": [],
   "source": [
    "oversample = SMOTE()\n",
    "\n",
    "X_sampled, y_sampled = oversample.fit_resample(X, y)"
   ]
  },
  {
   "cell_type": "markdown",
   "id": "d3639067-ed88-4bbb-b360-6ef7085f6c6e",
   "metadata": {},
   "source": [
    "# splitting"
   ]
  },
  {
   "cell_type": "code",
   "execution_count": 19,
   "id": "d758ee14-87cb-49ba-866a-aab57c2975b4",
   "metadata": {},
   "outputs": [],
   "source": [
    "X_train, X_test, y_train, y_test = train_test_split(X_sampled, y_sampled, test_size=0.2, random_state=42)"
   ]
  },
  {
   "cell_type": "code",
   "execution_count": 20,
   "id": "7d802518-7938-4d5e-8b79-a2ae1e372297",
   "metadata": {},
   "outputs": [
    {
     "data": {
      "text/html": [
       "<style>#sk-container-id-1 {color: black;}#sk-container-id-1 pre{padding: 0;}#sk-container-id-1 div.sk-toggleable {background-color: white;}#sk-container-id-1 label.sk-toggleable__label {cursor: pointer;display: block;width: 100%;margin-bottom: 0;padding: 0.3em;box-sizing: border-box;text-align: center;}#sk-container-id-1 label.sk-toggleable__label-arrow:before {content: \"▸\";float: left;margin-right: 0.25em;color: #696969;}#sk-container-id-1 label.sk-toggleable__label-arrow:hover:before {color: black;}#sk-container-id-1 div.sk-estimator:hover label.sk-toggleable__label-arrow:before {color: black;}#sk-container-id-1 div.sk-toggleable__content {max-height: 0;max-width: 0;overflow: hidden;text-align: left;background-color: #f0f8ff;}#sk-container-id-1 div.sk-toggleable__content pre {margin: 0.2em;color: black;border-radius: 0.25em;background-color: #f0f8ff;}#sk-container-id-1 input.sk-toggleable__control:checked~div.sk-toggleable__content {max-height: 200px;max-width: 100%;overflow: auto;}#sk-container-id-1 input.sk-toggleable__control:checked~label.sk-toggleable__label-arrow:before {content: \"▾\";}#sk-container-id-1 div.sk-estimator input.sk-toggleable__control:checked~label.sk-toggleable__label {background-color: #d4ebff;}#sk-container-id-1 div.sk-label input.sk-toggleable__control:checked~label.sk-toggleable__label {background-color: #d4ebff;}#sk-container-id-1 input.sk-hidden--visually {border: 0;clip: rect(1px 1px 1px 1px);clip: rect(1px, 1px, 1px, 1px);height: 1px;margin: -1px;overflow: hidden;padding: 0;position: absolute;width: 1px;}#sk-container-id-1 div.sk-estimator {font-family: monospace;background-color: #f0f8ff;border: 1px dotted black;border-radius: 0.25em;box-sizing: border-box;margin-bottom: 0.5em;}#sk-container-id-1 div.sk-estimator:hover {background-color: #d4ebff;}#sk-container-id-1 div.sk-parallel-item::after {content: \"\";width: 100%;border-bottom: 1px solid gray;flex-grow: 1;}#sk-container-id-1 div.sk-label:hover label.sk-toggleable__label {background-color: #d4ebff;}#sk-container-id-1 div.sk-serial::before {content: \"\";position: absolute;border-left: 1px solid gray;box-sizing: border-box;top: 0;bottom: 0;left: 50%;z-index: 0;}#sk-container-id-1 div.sk-serial {display: flex;flex-direction: column;align-items: center;background-color: white;padding-right: 0.2em;padding-left: 0.2em;position: relative;}#sk-container-id-1 div.sk-item {position: relative;z-index: 1;}#sk-container-id-1 div.sk-parallel {display: flex;align-items: stretch;justify-content: center;background-color: white;position: relative;}#sk-container-id-1 div.sk-item::before, #sk-container-id-1 div.sk-parallel-item::before {content: \"\";position: absolute;border-left: 1px solid gray;box-sizing: border-box;top: 0;bottom: 0;left: 50%;z-index: -1;}#sk-container-id-1 div.sk-parallel-item {display: flex;flex-direction: column;z-index: 1;position: relative;background-color: white;}#sk-container-id-1 div.sk-parallel-item:first-child::after {align-self: flex-end;width: 50%;}#sk-container-id-1 div.sk-parallel-item:last-child::after {align-self: flex-start;width: 50%;}#sk-container-id-1 div.sk-parallel-item:only-child::after {width: 0;}#sk-container-id-1 div.sk-dashed-wrapped {border: 1px dashed gray;margin: 0 0.4em 0.5em 0.4em;box-sizing: border-box;padding-bottom: 0.4em;background-color: white;}#sk-container-id-1 div.sk-label label {font-family: monospace;font-weight: bold;display: inline-block;line-height: 1.2em;}#sk-container-id-1 div.sk-label-container {text-align: center;}#sk-container-id-1 div.sk-container {/* jupyter's `normalize.less` sets `[hidden] { display: none; }` but bootstrap.min.css set `[hidden] { display: none !important; }` so we also need the `!important` here to be able to override the default hidden behavior on the sphinx rendered scikit-learn.org. See: https://github.com/scikit-learn/scikit-learn/issues/21755 */display: inline-block !important;position: relative;}#sk-container-id-1 div.sk-text-repr-fallback {display: none;}</style><div id=\"sk-container-id-1\" class=\"sk-top-container\"><div class=\"sk-text-repr-fallback\"><pre>SGDClassifier()</pre><b>In a Jupyter environment, please rerun this cell to show the HTML representation or trust the notebook. <br />On GitHub, the HTML representation is unable to render, please try loading this page with nbviewer.org.</b></div><div class=\"sk-container\" hidden><div class=\"sk-item\"><div class=\"sk-estimator sk-toggleable\"><input class=\"sk-toggleable__control sk-hidden--visually\" id=\"sk-estimator-id-1\" type=\"checkbox\" checked><label for=\"sk-estimator-id-1\" class=\"sk-toggleable__label sk-toggleable__label-arrow\">SGDClassifier</label><div class=\"sk-toggleable__content\"><pre>SGDClassifier()</pre></div></div></div></div></div>"
      ],
      "text/plain": [
       "SGDClassifier()"
      ]
     },
     "execution_count": 20,
     "metadata": {},
     "output_type": "execute_result"
    }
   ],
   "source": [
    "clf = SGDClassifier()\n",
    "\n",
    "clf.fit(X_train, y_train)"
   ]
  },
  {
   "cell_type": "code",
   "execution_count": 21,
   "id": "a29eab40-444a-4511-9c77-a3c537b52a77",
   "metadata": {},
   "outputs": [],
   "source": [
    "y_pred = clf.predict(X_test)"
   ]
  },
  {
   "cell_type": "code",
   "execution_count": 22,
   "id": "3e9a1d66-6019-4f12-89f2-4b0fbdabc11b",
   "metadata": {},
   "outputs": [
    {
     "name": "stdout",
     "output_type": "stream",
     "text": [
      "Accuracy:\n",
      "0.929285449833395\n",
      "\n",
      "              precision    recall  f1-score   support\n",
      "\n",
      "           0       0.96      0.86      0.91     35056\n",
      "           1       0.94      1.00      0.97     35104\n",
      "           2       0.89      0.93      0.91     35179\n",
      "\n",
      "    accuracy                           0.93    105339\n",
      "   macro avg       0.93      0.93      0.93    105339\n",
      "weighted avg       0.93      0.93      0.93    105339\n",
      "\n",
      "Confusion matrix:\n",
      "[[29973   873  4210]\n",
      " [    0 35104     0]\n",
      " [ 1112  1254 32813]]\n"
     ]
    }
   ],
   "source": [
    "acc_score = accuracy_score(y_test, y_pred)\n",
    "clf_report = classification_report(y_test, y_pred)\n",
    "conf_mat = confusion_matrix(y_test, y_pred)\n",
    "\n",
    "print(f\"Accuracy:\\n{acc_score}\\n\\n{clf_report}\\nConfusion matrix:\\n{conf_mat}\")"
   ]
  },
  {
   "cell_type": "code",
   "execution_count": null,
   "id": "e1cf53d1-3d61-4048-9387-e570d57ad8ad",
   "metadata": {},
   "outputs": [],
   "source": []
  }
 ],
 "metadata": {
  "kernelspec": {
   "display_name": "Python 3 (ipykernel)",
   "language": "python",
   "name": "python3"
  },
  "language_info": {
   "codemirror_mode": {
    "name": "ipython",
    "version": 3
   },
   "file_extension": ".py",
   "mimetype": "text/x-python",
   "name": "python",
   "nbconvert_exporter": "python",
   "pygments_lexer": "ipython3",
   "version": "3.9.18"
  }
 },
 "nbformat": 4,
 "nbformat_minor": 5
}
